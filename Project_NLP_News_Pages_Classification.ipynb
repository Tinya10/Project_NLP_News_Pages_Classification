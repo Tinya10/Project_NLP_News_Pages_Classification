{
 "cells": [
  {
   "cell_type": "code",
   "execution_count": 32,
   "metadata": {},
   "outputs": [
    {
     "name": "stderr",
     "output_type": "stream",
     "text": [
      "[nltk_data] Downloading package stopwords to\n",
      "[nltk_data]     C:\\Users\\hp\\AppData\\Roaming\\nltk_data...\n",
      "[nltk_data]   Package stopwords is already up-to-date!\n"
     ]
    }
   ],
   "source": [
    "# import packages\n",
    "import numpy as np\n",
    "import pandas as pd\n",
    "import matplotlib.pyplot as plt\n",
    "\n",
    "import seaborn as sns\n",
    "import re\n",
    "import nltk\n",
    "nltk.download('stopwords')\n",
    "from nltk.corpus import stopwords\n",
    "from sklearn.model_selection import train_test_split\n",
    "from sklearn.feature_extraction.text import CountVectorizer, TfidfVectorizer\n",
    "from sklearn.naive_bayes import MultinomialNB\n",
    "from sklearn.multiclass import OneVsRestClassifier\n",
    "from sklearn.linear_model import LogisticRegression\n",
    "from sklearn.metrics import accuracy_score ,confusion_matrix"
   ]
  },
  {
   "cell_type": "markdown",
   "metadata": {},
   "source": [
    "# Load the dataset\n",
    "#Loading the train data"
   ]
  },
  {
   "cell_type": "code",
   "execution_count": 33,
   "metadata": {},
   "outputs": [
    {
     "data": {
      "text/html": [
       "<div>\n",
       "<style scoped>\n",
       "    .dataframe tbody tr th:only-of-type {\n",
       "        vertical-align: middle;\n",
       "    }\n",
       "\n",
       "    .dataframe tbody tr th {\n",
       "        vertical-align: top;\n",
       "    }\n",
       "\n",
       "    .dataframe thead th {\n",
       "        text-align: right;\n",
       "    }\n",
       "</style>\n",
       "<table border=\"1\" class=\"dataframe\">\n",
       "  <thead>\n",
       "    <tr style=\"text-align: right;\">\n",
       "      <th></th>\n",
       "      <th>Id</th>\n",
       "      <th>TITLE</th>\n",
       "      <th>CATEGORY</th>\n",
       "    </tr>\n",
       "  </thead>\n",
       "  <tbody>\n",
       "    <tr>\n",
       "      <th>0</th>\n",
       "      <td>50846</td>\n",
       "      <td>Ukraine to get $18 billion rescue from IMF</td>\n",
       "      <td>b</td>\n",
       "    </tr>\n",
       "    <tr>\n",
       "      <th>1</th>\n",
       "      <td>234375</td>\n",
       "      <td>McDonald's Abandons Headquarters to Avoid Prot...</td>\n",
       "      <td>b</td>\n",
       "    </tr>\n",
       "    <tr>\n",
       "      <th>2</th>\n",
       "      <td>63422</td>\n",
       "      <td>New study finds evidence that Autism begins in...</td>\n",
       "      <td>m</td>\n",
       "    </tr>\n",
       "    <tr>\n",
       "      <th>3</th>\n",
       "      <td>353942</td>\n",
       "      <td>Prime Minister Modi Says Meeting With Facebook...</td>\n",
       "      <td>t</td>\n",
       "    </tr>\n",
       "    <tr>\n",
       "      <th>4</th>\n",
       "      <td>311586</td>\n",
       "      <td>New robot guides at Tokyo museum almost outper...</td>\n",
       "      <td>t</td>\n",
       "    </tr>\n",
       "    <tr>\n",
       "      <th>5</th>\n",
       "      <td>116556</td>\n",
       "      <td>RCMP asked for delay of CRA's stolen data anno...</td>\n",
       "      <td>b</td>\n",
       "    </tr>\n",
       "    <tr>\n",
       "      <th>6</th>\n",
       "      <td>408119</td>\n",
       "      <td>'Sharknado 2' Sucks In 3.9 Million Viewers, Sp...</td>\n",
       "      <td>e</td>\n",
       "    </tr>\n",
       "    <tr>\n",
       "      <th>7</th>\n",
       "      <td>384804</td>\n",
       "      <td>How Tim Cook Is Taking Steve Jobs' Advice to H...</td>\n",
       "      <td>t</td>\n",
       "    </tr>\n",
       "    <tr>\n",
       "      <th>8</th>\n",
       "      <td>16978</td>\n",
       "      <td>WATCH: Huge aquarium breaks at Disney World re...</td>\n",
       "      <td>b</td>\n",
       "    </tr>\n",
       "    <tr>\n",
       "      <th>9</th>\n",
       "      <td>275714</td>\n",
       "      <td>CURRENCIES: Dollar Falls Vs. Rivals; Euro Rebo...</td>\n",
       "      <td>b</td>\n",
       "    </tr>\n",
       "  </tbody>\n",
       "</table>\n",
       "</div>"
      ],
      "text/plain": [
       "       Id                                              TITLE CATEGORY\n",
       "0   50846         Ukraine to get $18 billion rescue from IMF        b\n",
       "1  234375  McDonald's Abandons Headquarters to Avoid Prot...        b\n",
       "2   63422  New study finds evidence that Autism begins in...        m\n",
       "3  353942  Prime Minister Modi Says Meeting With Facebook...        t\n",
       "4  311586  New robot guides at Tokyo museum almost outper...        t\n",
       "5  116556  RCMP asked for delay of CRA's stolen data anno...        b\n",
       "6  408119  'Sharknado 2' Sucks In 3.9 Million Viewers, Sp...        e\n",
       "7  384804  How Tim Cook Is Taking Steve Jobs' Advice to H...        t\n",
       "8   16978  WATCH: Huge aquarium breaks at Disney World re...        b\n",
       "9  275714  CURRENCIES: Dollar Falls Vs. Rivals; Euro Rebo...        b"
      ]
     },
     "execution_count": 33,
     "metadata": {},
     "output_type": "execute_result"
    }
   ],
   "source": [
    "# load data\n",
    "news = pd.read_csv(\"train.csv\")\n",
    "news.head(10)"
   ]
  },
  {
   "cell_type": "code",
   "execution_count": 34,
   "metadata": {},
   "outputs": [
    {
     "data": {
      "text/plain": [
       "e    122013\n",
       "b     92679\n",
       "t     86846\n",
       "m     36397\n",
       "Name: CATEGORY, dtype: int64"
      ]
     },
     "execution_count": 34,
     "metadata": {},
     "output_type": "execute_result"
    }
   ],
   "source": [
    "# distribution of classes\n",
    "dist = news.CATEGORY.value_counts()\n",
    "dist"
   ]
  },
  {
   "cell_type": "markdown",
   "metadata": {},
   "source": [
    "# Visualize and Preprocess the data\n",
    "#Retaining only alphabets (Using regular expressions)\n",
    "#Removing stopwords (Using nltk library)"
   ]
  },
  {
   "cell_type": "code",
   "execution_count": 35,
   "metadata": {},
   "outputs": [
    {
     "data": {
      "text/plain": [
       "0           Ukraine to get     billion rescue from IMF\n",
       "1    McDonald s Abandons Headquarters to Avoid Prot...\n",
       "2    New study finds evidence that Autism begins in...\n",
       "3    Prime Minister Modi Says Meeting With Facebook...\n",
       "4    New robot guides at Tokyo museum almost outper...\n",
       "5    RCMP asked for delay of CRA s stolen data anno...\n",
       "6     Sharknado    Sucks In     Million Viewers  Sp...\n",
       "7    How Tim Cook Is Taking Steve Jobs  Advice to H...\n",
       "8    WATCH  Huge aquarium breaks at Disney World re...\n",
       "9    CURRENCIES  Dollar Falls Vs  Rivals  Euro Rebo...\n",
       "Name: TITLE, dtype: object"
      ]
     },
     "execution_count": 35,
     "metadata": {},
     "output_type": "execute_result"
    }
   ],
   "source": [
    "# stopwords \n",
    "stop = set(stopwords.words('english'))\n",
    "\n",
    "# retain only alphabets\n",
    "news['TITLE'] = news['TITLE'].apply(lambda x:re.sub(\"[^a-zA-Z]\", \" \",x))\n",
    "news['TITLE'].head(10)"
   ]
  },
  {
   "cell_type": "code",
   "execution_count": 36,
   "metadata": {},
   "outputs": [
    {
     "data": {
      "text/plain": [
       "0       [ukraine, to, get, billion, rescue, from, imf]\n",
       "1    [mcdonald, s, abandons, headquarters, to, avoi...\n",
       "2    [new, study, finds, evidence, that, autism, be...\n",
       "3    [prime, minister, modi, says, meeting, with, f...\n",
       "4    [new, robot, guides, at, tokyo, museum, almost...\n",
       "5    [rcmp, asked, for, delay, of, cra, s, stolen, ...\n",
       "6    [sharknado, sucks, in, million, viewers, spits...\n",
       "7    [how, tim, cook, is, taking, steve, jobs, advi...\n",
       "8    [watch, huge, aquarium, breaks, at, disney, wo...\n",
       "9    [currencies, dollar, falls, vs, rivals, euro, ...\n",
       "Name: TITLE, dtype: object"
      ]
     },
     "execution_count": 36,
     "metadata": {},
     "output_type": "execute_result"
    }
   ],
   "source": [
    "# convert to lowercase and tokenize\n",
    "news['TITLE'] = news['TITLE'].apply(lambda x:x.lower().split())\n",
    "news['TITLE'].head(10)"
   ]
  },
  {
   "cell_type": "code",
   "execution_count": 37,
   "metadata": {},
   "outputs": [
    {
     "data": {
      "text/plain": [
       "0                 [ukraine, get, billion, rescue, imf]\n",
       "1    [mcdonald, abandons, headquarters, avoid, prot...\n",
       "2    [new, study, finds, evidence, autism, begins, ...\n",
       "3    [prime, minister, modi, says, meeting, faceboo...\n",
       "4    [new, robot, guides, tokyo, museum, almost, ou...\n",
       "5    [rcmp, asked, delay, cra, stolen, data, announ...\n",
       "6    [sharknado, sucks, million, viewers, spits, on...\n",
       "7    [tim, cook, taking, steve, jobs, advice, heart...\n",
       "8    [watch, huge, aquarium, breaks, disney, world,...\n",
       "9    [currencies, dollar, falls, vs, rivals, euro, ...\n",
       "Name: TITLE, dtype: object"
      ]
     },
     "execution_count": 37,
     "metadata": {},
     "output_type": "execute_result"
    }
   ],
   "source": [
    "# remove stopwords\n",
    "news['TITLE'] = news['TITLE'].apply(lambda x:[i for i in x if i not in stop])\n",
    "news['TITLE'].head(10)"
   ]
  },
  {
   "cell_type": "code",
   "execution_count": 38,
   "metadata": {},
   "outputs": [
    {
     "data": {
      "text/plain": [
       "0                       ukraine get billion rescue imf\n",
       "1      mcdonald abandons headquarters avoid protesters\n",
       "2          new study finds evidence autism begins womb\n",
       "3    prime minister modi says meeting facebook coo ...\n",
       "4    new robot guides tokyo museum almost outperfor...\n",
       "5        rcmp asked delay cra stolen data announcement\n",
       "6    sharknado sucks million viewers spits one bill...\n",
       "7    tim cook taking steve jobs advice heart apple ceo\n",
       "8    watch huge aquarium breaks disney world restau...\n",
       "9      currencies dollar falls vs rivals euro rebounds\n",
       "Name: TITLE, dtype: object"
      ]
     },
     "execution_count": 38,
     "metadata": {},
     "output_type": "execute_result"
    }
   ],
   "source": [
    "# join list elements\n",
    "news['TITLE'] = news['TITLE'].apply(lambda x: ' '.join(x))\n",
    "news['TITLE'].head(10)"
   ]
  },
  {
   "cell_type": "markdown",
   "metadata": {},
   "source": [
    "# split into training and test sets"
   ]
  },
  {
   "cell_type": "code",
   "execution_count": 39,
   "metadata": {},
   "outputs": [],
   "source": [
    "X_train, X_test, y_train, y_test = train_test_split(news[\"TITLE\"],news[\"CATEGORY\"], test_size = 0.2, random_state = 3)"
   ]
  },
  {
   "cell_type": "code",
   "execution_count": 40,
   "metadata": {},
   "outputs": [
    {
     "name": "stdout",
     "output_type": "stream",
     "text": [
      "(270348, 42616) (270348,)\n",
      "(67587, 1665439) (67587,)\n"
     ]
    }
   ],
   "source": [
    "# initialize count vectorizer\n",
    "count_vectorizer = CountVectorizer()\n",
    "\n",
    "# initialize tfidf vectorizer\n",
    "tfidf_vectorizer = TfidfVectorizer(ngram_range=(1,3))\n",
    "\n",
    "# fit and transform with count vectorizer\n",
    "X_train_count = count_vectorizer.fit_transform(X_train)\n",
    "X_test_count = count_vectorizer.transform(X_test)\n",
    "\n",
    "# fit and transform with tfidf vectorizer\n",
    "X_train_tfidf = tfidf_vectorizer.fit_transform(X_train)\n",
    "X_test_tfidf = tfidf_vectorizer.transform(X_test)\n",
    "\n",
    "print(X_train_count.shape, y_train.shape)\n",
    "print(X_test_tfidf.shape, y_test.shape)"
   ]
  },
  {
   "cell_type": "code",
   "execution_count": 41,
   "metadata": {},
   "outputs": [
    {
     "name": "stdout",
     "output_type": "stream",
     "text": [
      "(270348,) (270348,)\n",
      "(67587,) (67587,)\n"
     ]
    }
   ],
   "source": [
    "print(X_train.shape, y_train.shape)\n",
    "print(X_test.shape, y_test.shape)"
   ]
  },
  {
   "cell_type": "markdown",
   "metadata": {},
   "source": [
    "# Model Building"
   ]
  },
  {
   "cell_type": "code",
   "execution_count": 42,
   "metadata": {},
   "outputs": [
    {
     "name": "stdout",
     "output_type": "stream",
     "text": [
      "0.9272641188394218 0.9295870507642002\n"
     ]
    }
   ],
   "source": [
    "# initialize multinomial naive bayes\n",
    "nb_1 = MultinomialNB()\n",
    "nb_2 = MultinomialNB()\n",
    "\n",
    "# fit on count vectorizer training data\n",
    "nb_1.fit(X_train_count, y_train)\n",
    "\n",
    "# fit on tfidf vectorizer training data\n",
    "nb_2.fit(X_train_tfidf, y_train)\n",
    "\n",
    "# accuracy with count vectorizer\n",
    "acc_count_nb = accuracy_score(nb_1.predict(X_test_count), y_test)\n",
    "\n",
    "# accuracy with tfidf vectorizer\n",
    "acc_tfidf_nb = accuracy_score(nb_2.predict(X_test_tfidf), y_test)\n",
    "\n",
    "# display accuracies\n",
    "print(acc_count_nb, acc_tfidf_nb)"
   ]
  },
  {
   "cell_type": "code",
   "execution_count": 43,
   "metadata": {},
   "outputs": [
    {
     "name": "stdout",
     "output_type": "stream",
     "text": [
      "0.946099101898294 0.9420450678384896\n"
     ]
    }
   ],
   "source": [
    "import warnings\n",
    "warnings.filterwarnings('ignore')\n",
    "\n",
    "# initialize logistic regression\n",
    "logreg_1 = OneVsRestClassifier(LogisticRegression(random_state=10))\n",
    "logreg_2 = OneVsRestClassifier(LogisticRegression(random_state=10))\n",
    "\n",
    "# fit on count vectorizer training data\n",
    "logreg_1.fit(X_train_count, y_train)\n",
    "\n",
    "# fit on tfidf vectorizer training data\n",
    "logreg_2.fit(X_train_tfidf, y_train)\n",
    "\n",
    "# accuracy with count vectorizer\n",
    "acc_count_logreg = accuracy_score(logreg_1.predict(X_test_count), y_test)\n",
    "\n",
    "# accuracy with tfidf vectorizer\n",
    "acc_tfidf_logreg = accuracy_score(logreg_2.predict(X_test_tfidf), y_test)\n",
    "\n",
    "# display accuracies\n",
    "print(acc_count_logreg, acc_tfidf_logreg)\n",
    "\n"
   ]
  },
  {
   "cell_type": "markdown",
   "metadata": {},
   "source": [
    "# Prediction on the test data and creating the sample submission file"
   ]
  },
  {
   "cell_type": "code",
   "execution_count": 45,
   "metadata": {},
   "outputs": [
    {
     "data": {
      "text/html": [
       "<div>\n",
       "<style scoped>\n",
       "    .dataframe tbody tr th:only-of-type {\n",
       "        vertical-align: middle;\n",
       "    }\n",
       "\n",
       "    .dataframe tbody tr th {\n",
       "        vertical-align: top;\n",
       "    }\n",
       "\n",
       "    .dataframe thead th {\n",
       "        text-align: right;\n",
       "    }\n",
       "</style>\n",
       "<table border=\"1\" class=\"dataframe\">\n",
       "  <thead>\n",
       "    <tr style=\"text-align: right;\">\n",
       "      <th></th>\n",
       "      <th>Id</th>\n",
       "      <th>TITLE</th>\n",
       "    </tr>\n",
       "  </thead>\n",
       "  <tbody>\n",
       "    <tr>\n",
       "      <th>0</th>\n",
       "      <td>86998</td>\n",
       "      <td>A simple blood test to detect 'solid' cancers?</td>\n",
       "    </tr>\n",
       "    <tr>\n",
       "      <th>1</th>\n",
       "      <td>112926</td>\n",
       "      <td>Mozilla appoints veteran Chris Beard as interi...</td>\n",
       "    </tr>\n",
       "    <tr>\n",
       "      <th>2</th>\n",
       "      <td>280943</td>\n",
       "      <td>FDA Abruptly Reverses Stance on Wooden Aging B...</td>\n",
       "    </tr>\n",
       "    <tr>\n",
       "      <th>3</th>\n",
       "      <td>37154</td>\n",
       "      <td>Cancer stats confirm value of colonoscopy</td>\n",
       "    </tr>\n",
       "    <tr>\n",
       "      <th>4</th>\n",
       "      <td>152800</td>\n",
       "      <td>Apple, Samsung playing games citing big number...</td>\n",
       "    </tr>\n",
       "    <tr>\n",
       "      <th>5</th>\n",
       "      <td>412956</td>\n",
       "      <td>Amazon to Buy Video Gaming Site Twitch for Mor...</td>\n",
       "    </tr>\n",
       "    <tr>\n",
       "      <th>6</th>\n",
       "      <td>197094</td>\n",
       "      <td>Google Shopping Launches Same-Day Delivery In ...</td>\n",
       "    </tr>\n",
       "    <tr>\n",
       "      <th>7</th>\n",
       "      <td>117620</td>\n",
       "      <td>Spacecraft survives 'blood moon' eclipse seen ...</td>\n",
       "    </tr>\n",
       "    <tr>\n",
       "      <th>8</th>\n",
       "      <td>14854</td>\n",
       "      <td>Madonna dresses up as Daenerys Targaryen from ...</td>\n",
       "    </tr>\n",
       "    <tr>\n",
       "      <th>9</th>\n",
       "      <td>342032</td>\n",
       "      <td>Pippa Middleton Bum Style Maintains 'Normal' R...</td>\n",
       "    </tr>\n",
       "  </tbody>\n",
       "</table>\n",
       "</div>"
      ],
      "text/plain": [
       "       Id                                              TITLE\n",
       "0   86998     A simple blood test to detect 'solid' cancers?\n",
       "1  112926  Mozilla appoints veteran Chris Beard as interi...\n",
       "2  280943  FDA Abruptly Reverses Stance on Wooden Aging B...\n",
       "3   37154          Cancer stats confirm value of colonoscopy\n",
       "4  152800  Apple, Samsung playing games citing big number...\n",
       "5  412956  Amazon to Buy Video Gaming Site Twitch for Mor...\n",
       "6  197094  Google Shopping Launches Same-Day Delivery In ...\n",
       "7  117620  Spacecraft survives 'blood moon' eclipse seen ...\n",
       "8   14854  Madonna dresses up as Daenerys Targaryen from ...\n",
       "9  342032  Pippa Middleton Bum Style Maintains 'Normal' R..."
      ]
     },
     "execution_count": 45,
     "metadata": {},
     "output_type": "execute_result"
    }
   ],
   "source": [
    "# Prediction on test data\n",
    "\n",
    "# Read the test data\n",
    "test = pd.read_csv('test.csv')\n",
    "test.head(10)"
   ]
  },
  {
   "cell_type": "code",
   "execution_count": 47,
   "metadata": {},
   "outputs": [
    {
     "name": "stdout",
     "output_type": "stream",
     "text": [
      "(84484, 42616)\n",
      "        Id CATEGORY\n",
      "0    86998        m\n",
      "1   112926        t\n",
      "2   280943        m\n",
      "3    37154        m\n",
      "4   152800        t\n",
      "5   412956        t\n",
      "6   197094        t\n",
      "7   117620        t\n",
      "8    14854        e\n",
      "9   342032        e\n",
      "10    3986        e\n",
      "11  383521        b\n",
      "12   85462        e\n",
      "13   68984        t\n",
      "14  218666        m\n",
      "15   63219        e\n",
      "16   22598        e\n",
      "17  324981        e\n",
      "18  347188        e\n",
      "19  129828        e\n"
     ]
    }
   ],
   "source": [
    "# Storing the id from the test file\n",
    "id_ = test['Id']\n",
    "\n",
    "# Apply the transformations on test\n",
    "# retain only alphabets\n",
    "test['TITLE'] = test['TITLE'].apply(lambda x:re.sub(\"[^a-zA-Z]\", \" \",x))\n",
    "\n",
    "# convert to lowercase and tokenize\n",
    "test['TITLE'] = test['TITLE'].apply(lambda x:x.lower().split())\n",
    "\n",
    "# remove stopwords\n",
    "test['TITLE'] = test['TITLE'].apply(lambda x:[i for i in x if i not in stop])\n",
    "\n",
    "# join list elements\n",
    "test['TITLE'] = test['TITLE'].apply(lambda x: ' '.join(x))\n",
    "\n",
    "test_count = count_vectorizer.transform(test['TITLE'])\n",
    "test_tfidf = tfidf_vectorizer.transform(test['TITLE'])\n",
    "\n",
    "# Predict on the test data\n",
    "y_pred_test = logreg_1.predict(test_count)\n",
    "print(test_count.shape)\n",
    "y_pred_test = y_pred_test.flatten()\n",
    "\n",
    "# Create a sample submission file\n",
    "sample_submission = pd.DataFrame({'Id':id_, 'CATEGORY':y_pred_test})\n",
    "print(sample_submission.head(20))\n",
    "\n",
    "# Convert the sample submission file into a csv file\n",
    "sample_submission.to_csv('sample_submisson.csv',index=False)\n",
    "\n"
   ]
  }
 ],
 "metadata": {
  "kernelspec": {
   "display_name": "Python 3",
   "language": "python",
   "name": "python3"
  }
 },
 "nbformat": 4,
 "nbformat_minor": 2
}
